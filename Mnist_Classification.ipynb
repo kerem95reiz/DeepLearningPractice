{
  "nbformat": 4,
  "nbformat_minor": 0,
  "metadata": {
    "colab": {
      "name": "Mnist Classification.ipynb",
      "provenance": [],
      "authorship_tag": "ABX9TyMPBe13EeSON162WW7Q0Mk5"
    },
    "kernelspec": {
      "name": "python3",
      "display_name": "Python 3"
    },
    "accelerator": "GPU"
  },
  "cells": [
    {
      "cell_type": "code",
      "metadata": {
        "id": "LKQC8BLMGGIi",
        "colab_type": "code",
        "colab": {}
      },
      "source": [
        "from pathlib import Path\n",
        "import requests\n",
        "\n",
        "DATA_PATH = Path('data')\n",
        "PATH = DATA_PATH / 'mnist'\n",
        "\n",
        "PATH.mkdir(parents=True, exist_ok=True)\n",
        "\n",
        "URL = 'http://deeplearning.net/data/mnist/'\n",
        "FILENAME = 'mnist.pkl.gz'\n",
        "\n",
        "if not (PATH/FILENAME).exists():\n",
        "  content = requests.get(URL + FILENAME).content\n",
        "  (PATH/FILENAME).open('wb').write(content)"
      ],
      "execution_count": 0,
      "outputs": []
    },
    {
      "cell_type": "code",
      "metadata": {
        "id": "qNUwUBe5G5vn",
        "colab_type": "code",
        "colab": {}
      },
      "source": [
        "import pickle, gzip\n",
        "\n",
        "with gzip.open((PATH / FILENAME).as_posix(), 'rb') as f:\n",
        "  ((x_train, y_train), (x_valid, y_valid), _) = pickle.load(f, encoding='latin-1')\n"
      ],
      "execution_count": 0,
      "outputs": []
    },
    {
      "cell_type": "code",
      "metadata": {
        "id": "IoNbwCLxG7IX",
        "colab_type": "code",
        "outputId": "a788f326-1c13-41a4-bed6-0ee4fbdcbcc0",
        "colab": {
          "base_uri": "https://localhost:8080/",
          "height": 282
        }
      },
      "source": [
        "from matplotlib import pyplot\n",
        "import numpy as np\n",
        "\n",
        "pyplot.imshow(x_train[0].reshape((28, 28)), cmap='gray')\n",
        "print(x_train.shape)"
      ],
      "execution_count": 47,
      "outputs": [
        {
          "output_type": "stream",
          "text": [
            "(50000, 784)\n"
          ],
          "name": "stdout"
        },
        {
          "output_type": "display_data",
          "data": {
            "image/png": "[encoded data removed]",
            "text/plain": [
              "<Figure size 432x288 with 1 Axes>"
            ]
          },
          "metadata": {
            "tags": []
          }
        }
      ]
    },
    {
      "cell_type": "code",
      "metadata": {
        "id": "TXmJ2wr6G9fM",
        "colab_type": "code",
        "colab": {}
      },
      "source": [
        "import torch\n",
        "import torch.nn.functional as F\n",
        "x_train, y_train, x_valid, y_valid = map(torch.tensor, \n",
        "                                         (x_train, y_train, x_valid, y_valid))\n",
        "\n",
        "n, c = x_train.shape\n",
        "bs = 64 # batch size\n",
        "loss_func = F.cross_entropy"
      ],
      "execution_count": 0,
      "outputs": []
    },
    {
      "cell_type": "code",
      "metadata": {
        "id": "WOVFOVG5OVzB",
        "colab_type": "code",
        "colab": {}
      },
      "source": [
        "def accuracy(out, yb):\n",
        "  preds = torch.argmax(out, dim=1)\n",
        "  return (preds == yb).float().mean()"
      ],
      "execution_count": 0,
      "outputs": []
    },
    {
      "cell_type": "code",
      "metadata": {
        "id": "BOImpFFAfEqc",
        "colab_type": "code",
        "colab": {}
      },
      "source": [
        "from torch import nn\n",
        "\n",
        "class Mnist_Logistic(nn.Module):\n",
        "  def __init__(self):\n",
        "    super().__init__()\n",
        "    self.lin1 = nn.Linear(784, 10)\n",
        "\n",
        "  def forward(self, xb):\n",
        "    return self.lin1(xb)"
      ],
      "execution_count": 0,
      "outputs": []
    },
    {
      "cell_type": "code",
      "metadata": {
        "id": "FnYEkXhVkSEl",
        "colab_type": "code",
        "colab": {}
      },
      "source": [
        "def loss_batch(model, loss_func, xb, yb, opt=None):\n",
        "  loss = loss_func(model(xb), yb)\n",
        "\n",
        "  if opt is not None:\n",
        "    loss.backward()\n",
        "    opt.step()\n",
        "    opt.zero_grad()\n",
        "  \n",
        "  return loss.item(), len(xb)"
      ],
      "execution_count": 0,
      "outputs": []
    },
    {
      "cell_type": "code",
      "metadata": {
        "id": "C404FLlomcBm",
        "colab_type": "code",
        "colab": {}
      },
      "source": [
        "def get_data(train_ds, valid_ds, bs):\n",
        "  return (\n",
        "      DataLoader(train_ds, batch_size=bs, shuffle=2),\n",
        "      DataLoader(valid_ds, batch_size=bs*2)\n",
        "  )"
      ],
      "execution_count": 0,
      "outputs": []
    },
    {
      "cell_type": "code",
      "metadata": {
        "id": "VUUAhIAgkSsd",
        "colab_type": "code",
        "colab": {}
      },
      "source": [
        "from torch import optim\n",
        "from torch.utils.data import TensorDataset, DataLoader\n",
        "\n",
        "lr = 0.5\n",
        "epochs = 2\n",
        "\n",
        "def get_model():\n",
        "  model = Mnist_Logistic()\n",
        "  opt = optim.SGD(model.parameters(), lr=lr)\n",
        "  return model, opt\n",
        "\n",
        "def fit(epochs, model, loss_func, opt, train_dl, valid_dl):\n",
        "  for epoch in range(epochs):\n",
        "    model.train()\n",
        "    for xb, yb in train_dl:\n",
        "      loss_batch(model, loss_func, xb, yb, opt)\n",
        "\n",
        "      model.eval()\n",
        "      with torch.no_grad():\n",
        "        losses, nums = zip(*[loss_batch(model, loss_func, xb, yb) for xb, yb in valid_dl])\n",
        "    val_loss = np.multiply(losses, nums) / np.sum(nums)\n",
        "    print(epoch, val_loss)\n",
        "\n",
        "train_ds = TensorDataset(x_train, y_train)\n",
        "valid_ds = TensorDataset(x_valid, y_valid)\n"
      ],
      "execution_count": 0,
      "outputs": []
    },
    {
      "cell_type": "code",
      "metadata": {
        "id": "P7Lb4tivo0MZ",
        "colab_type": "code",
        "colab": {}
      },
      "source": [
        "class Mnist_CNN(nn.Module):\n",
        "\n",
        "  def __init__(self):\n",
        "    super().__init__()\n",
        "    self.conv1 = nn.Conv2d(1, 16, kernel_size=3, stride=2, padding=1)\n",
        "    self.conv2 = nn.Conv2d(16, 16, kernel_size=3, stride=2, padding=1)\n",
        "    self.conv3 = nn.Conv2d(16, 10, kernel_size=3, stride=2, padding=1)\n",
        "\n",
        "  def forward(self, xb):\n",
        "    xb = xb.view(-1, 1, 28, 28)\n",
        "    xb = F.relu(self.conv1(xb))\n",
        "    xb = F.relu(self.conv2(xb))\n",
        "    xb = F.relu(self.conv3(xb))\n",
        "    xb = F.avg_pool2d(xb, 4)\n",
        "    xb = xb.view(-1, xb.size(1))\n",
        "    return xb\n",
        "\n",
        "lr = 0.1\n"
      ],
      "execution_count": 0,
      "outputs": []
    },
    {
      "cell_type": "code",
      "metadata": {
        "colab_type": "code",
        "id": "2tunY9-7rJb2",
        "colab": {}
      },
      "source": [
        "# Training tek katman ile\n",
        "model, opt = get_model()\n",
        "train_dl, valid_dl = get_data(train_ds, valid_ds, bs)\n",
        "fit(epochs, model, loss_func, opt, train_dl, valid_dl)\n",
        "\n",
        "\n",
        "print('Bir tane training setinin buyuklugu: (bi fotografa denk geliyor)\\n', train_ds[0][0].shape)"
      ],
      "execution_count": 0,
      "outputs": []
    },
    {
      "cell_type": "code",
      "metadata": {
        "id": "2-KKj56MqYIP",
        "colab_type": "code",
        "colab": {}
      },
      "source": [
        "# Bi CNN ile model egitme\n",
        "model = Mnist_CNN()\n",
        "opt = optim.SGD(params=model.parameters(), lr=lr, momentum=0.9)\n",
        "fit(epochs, model, loss_func, opt, train_dl, valid_dl)"
      ],
      "execution_count": 0,
      "outputs": []
    },
    {
      "cell_type": "markdown",
      "metadata": {
        "id": "enm9xUZnsudZ",
        "colab_type": "text"
      },
      "source": [
        "Sequential sinfinin kullanilabilmesi icin, verilen butun parametrelerin bi Katman olmasi lazim ve bunun icinde bu pytorch'da kendiliginden katman olarak tanimlanmamis olan *view* fonksiyonunu bi katmanin icerisine yerlestiriyoruz."
      ]
    },
    {
      "cell_type": "code",
      "metadata": {
        "id": "YBJP-IVSsc3B",
        "colab_type": "code",
        "colab": {}
      },
      "source": [
        "class Lambda(nn.Module):\n",
        "  def __init__(self, func):\n",
        "    super().__init__()\n",
        "    self.func = func\n",
        "\n",
        "  def forward(self, x):\n",
        "    return self.func(x)\n",
        "\n",
        "def preprocess(x):\n",
        "  return x.view(-1, 1, 28, 28)"
      ],
      "execution_count": 0,
      "outputs": []
    },
    {
      "cell_type": "code",
      "metadata": {
        "id": "phfLvHRVrXZD",
        "colab_type": "code",
        "colab": {
          "base_uri": "https://localhost:8080/",
          "height": 478
        },
        "outputId": "56aa181d-532f-49cf-dede-9c8cb7ba7d2a"
      },
      "source": [
        "model = nn.Sequential(\n",
        "  Lambda(preprocess),\n",
        "  nn.Conv2d(1, 16, kernel_size=3, stride=2, padding=1),\n",
        "  nn.ReLU(),\n",
        "  nn.Conv2d(16, 16, kernel_size=3, stride=2, padding=1),\n",
        "  nn.ReLU(),\n",
        "  nn.Conv2d(16, 10, kernel_size=3, stride=2, padding=1),\n",
        "  nn.ReLU(),\n",
        "  nn.AvgPool2d(4),\n",
        "  Lambda(lambda x: x.view(x.size(0), -1))\n",
        ")\n",
        "\n",
        "opt = optim.SGD(model.parameters(), lr=lr, momentum=0.9)\n",
        "fit(epochs, model, loss_func, opt, train_dl, valid_dl)"
      ],
      "execution_count": 62,
      "outputs": [
        {
          "output_type": "stream",
          "text": [
            "0 [0.01627618 0.01627596 0.01546133 0.01623606 0.01644765 0.01580028\n",
            " 0.01978143 0.01428969 0.01485874 0.01600386 0.01627361 0.01756359\n",
            " 0.01660222 0.01318102 0.01466861 0.01660988 0.0178837  0.01674978\n",
            " 0.01536376 0.01721043 0.01538319 0.01745984 0.01677218 0.01478941\n",
            " 0.01472038 0.01559989 0.01389513 0.01590144 0.01474659 0.01477699\n",
            " 0.01570907 0.0181462  0.01617365 0.01370165 0.01363198 0.01768688\n",
            " 0.01395415 0.01271522 0.01818231 0.01533999 0.01515304 0.01469462\n",
            " 0.01758248 0.01596851 0.01718561 0.01619438 0.01454601 0.01612383\n",
            " 0.01714757 0.01313262 0.01841924 0.01756952 0.01655707 0.01827919\n",
            " 0.0149174  0.01559845 0.01737865 0.01439605 0.01765382 0.01463038\n",
            " 0.01538289 0.01291294 0.01328556 0.01486002 0.01394495 0.01601467\n",
            " 0.01497835 0.01645041 0.01410202 0.01527705 0.01247604 0.01492103\n",
            " 0.01593821 0.0177021  0.01389078 0.01499355 0.01636815 0.01556807\n",
            " 0.00179643]\n",
            "1 [0.01528608 0.01519614 0.01498181 0.01564654 0.01458156 0.01479789\n",
            " 0.01801859 0.01409745 0.01350259 0.01522856 0.01667231 0.01683496\n",
            " 0.01513883 0.01284842 0.01273678 0.01597983 0.01597729 0.01579804\n",
            " 0.01427823 0.01584281 0.0141377  0.01562098 0.01554085 0.01340492\n",
            " 0.01284538 0.01411647 0.01272942 0.01336504 0.01427409 0.01351626\n",
            " 0.01461432 0.01777044 0.01625913 0.01295861 0.01177512 0.01547587\n",
            " 0.01324365 0.01213612 0.01806584 0.01336987 0.01545248 0.01350996\n",
            " 0.01584412 0.01443972 0.01583662 0.01577736 0.01341379 0.01572962\n",
            " 0.01664799 0.01255298 0.0166941  0.01485758 0.01452714 0.01787298\n",
            " 0.01337533 0.01495453 0.01759632 0.01372758 0.01539831 0.01326864\n",
            " 0.01517238 0.01182417 0.01264743 0.0138031  0.01335586 0.01501727\n",
            " 0.01285742 0.01488514 0.01437398 0.01454534 0.01175507 0.01659942\n",
            " 0.01562485 0.01595891 0.0137105  0.01433353 0.01689403 0.01469209\n",
            " 0.00181884]\n"
          ],
          "name": "stdout"
        }
      ]
    }
  ]
}