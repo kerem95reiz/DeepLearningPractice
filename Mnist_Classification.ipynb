{
  "nbformat": 4,
  "nbformat_minor": 0,
  "metadata": {
    "colab": {
      "name": "Mnist Classification.ipynb",
      "provenance": [],
      "authorship_tag": "ABX9TyOcV8Fe5A5nZ1TOL/2Nrfx6"
    },
    "kernelspec": {
      "name": "python3",
      "display_name": "Python 3"
    },
    "accelerator": "GPU"
  },
  "cells": [
    {
      "cell_type": "code",
      "metadata": {
        "id": "LKQC8BLMGGIi",
        "colab_type": "code",
        "colab": {}
      },
      "source": [
        "from pathlib import Path\n",
        "import requests\n",
        "\n",
        "DATA_PATH = Path('data')\n",
        "PATH = DATA_PATH / 'mnist'\n",
        "\n",
        "PATH.mkdir(parents=True, exist_ok=True)\n",
        "\n",
        "URL = 'http://deeplearning.net/data/mnist/'\n",
        "FILENAME = 'mnist.pkl.gz'\n",
        "\n",
        "if not (PATH/FILENAME).exists():\n",
        "  content = requests.get(URL + FILENAME).content\n",
        "  (PATH/FILENAME).open('wb').write(content)"
      ],
      "execution_count": 0,
      "outputs": []
    },
    {
      "cell_type": "code",
      "metadata": {
        "id": "qNUwUBe5G5vn",
        "colab_type": "code",
        "colab": {}
      },
      "source": [
        "import pickle, gzip\n",
        "\n",
        "with gzip.open((PATH / FILENAME).as_posix(), 'rb') as f:\n",
        "  ((x_train, y_train), (x_valid, y_valid), _) = pickle.load(f, encoding='latin-1')\n"
      ],
      "execution_count": 0,
      "outputs": []
    },
    {
      "cell_type": "code",
      "metadata": {
        "id": "IoNbwCLxG7IX",
        "colab_type": "code",
        "outputId": "a788f326-1c13-41a4-bed6-0ee4fbdcbcc0",
        "colab": {
          "base_uri": "https://localhost:8080/",
          "height": 282
        }
      },
      "source": [
        "from matplotlib import pyplot\n",
        "import numpy as np\n",
        "\n",
        "pyplot.imshow(x_train[0].reshape((28, 28)), cmap='gray')\n",
        "print(x_train.shape)"
      ],
      "execution_count": 47,
      "outputs": [
        {
          "output_type": "stream",
          "text": [
            "(50000, 784)\n"
          ],
          "name": "stdout"
        },
        {
          "output_type": "display_data",
          "data": {
            "image/png": "[encoded data removed]",
            "text/plain": [
              "<Figure size 432x288 with 1 Axes>"
            ]
          },
          "metadata": {
            "tags": []
          }
        }
      ]
    },
    {
      "cell_type": "code",
      "metadata": {
        "id": "TXmJ2wr6G9fM",
        "colab_type": "code",
        "colab": {}
      },
      "source": [
        "import torch\n",
        "import torch.nn.functional as F\n",
        "x_train, y_train, x_valid, y_valid = map(torch.tensor, \n",
        "                                         (x_train, y_train, x_valid, y_valid))\n",
        "\n",
        "n, c = x_train.shape\n",
        "bs = 64 # batch size\n",
        "loss_func = F.cross_entropy"
      ],
      "execution_count": 0,
      "outputs": []
    },
    {
      "cell_type": "code",
      "metadata": {
        "id": "WOVFOVG5OVzB",
        "colab_type": "code",
        "colab": {}
      },
      "source": [
        "def accuracy(out, yb):\n",
        "  preds = torch.argmax(out, dim=1)\n",
        "  return (preds == yb).float().mean()"
      ],
      "execution_count": 0,
      "outputs": []
    },
    {
      "cell_type": "code",
      "metadata": {
        "id": "BOImpFFAfEqc",
        "colab_type": "code",
        "colab": {}
      },
      "source": [
        "from torch import nn\n",
        "\n",
        "class Mnist_Logistic(nn.Module):\n",
        "  def __init__(self):\n",
        "    super().__init__()\n",
        "    self.lin1 = nn.Linear(784, 10)\n",
        "\n",
        "  def forward(self, xb):\n",
        "    return self.lin1(xb)"
      ],
      "execution_count": 0,
      "outputs": []
    },
    {
      "cell_type": "code",
      "metadata": {
        "id": "FnYEkXhVkSEl",
        "colab_type": "code",
        "colab": {}
      },
      "source": [
        "def loss_batch(model, loss_func, xb, yb, opt=None):\n",
        "  loss = loss_func(model(xb), yb)\n",
        "\n",
        "  if opt is not None:\n",
        "    loss.backward()\n",
        "    opt.step()\n",
        "    opt.zero_grad()\n",
        "  \n",
        "  return loss.item(), len(xb)"
      ],
      "execution_count": 0,
      "outputs": []
    },
    {
      "cell_type": "code",
      "metadata": {
        "id": "C404FLlomcBm",
        "colab_type": "code",
        "colab": {}
      },
      "source": [
        "def get_data(train_ds, valid_ds, bs):\n",
        "  return (\n",
        "      DataLoader(train_ds, batch_size=bs, shuffle=2),\n",
        "      DataLoader(valid_ds, batch_size=bs*2)\n",
        "  )"
      ],
      "execution_count": 0,
      "outputs": []
    },
    {
      "cell_type": "code",
      "metadata": {
        "id": "VUUAhIAgkSsd",
        "colab_type": "code",
        "colab": {}
      },
      "source": [
        "from torch import optim\n",
        "from torch.utils.data import TensorDataset, DataLoader\n",
        "\n",
        "lr = 0.5\n",
        "epochs = 2\n",
        "\n",
        "def get_model():\n",
        "  model = Mnist_Logistic()\n",
        "  opt = optim.SGD(model.parameters(), lr=lr)\n",
        "  return model, opt\n",
        "\n",
        "def fit(epochs, model, loss_func, opt, train_dl, valid_dl):\n",
        "  for epoch in range(epochs):\n",
        "    model.train()\n",
        "    for xb, yb in train_dl:\n",
        "      loss_batch(model, loss_func, xb, yb, opt)\n",
        "\n",
        "      model.eval()\n",
        "      with torch.no_grad():\n",
        "        losses, nums = zip(*[loss_batch(model, loss_func, xb, yb) for xb, yb in valid_dl])\n",
        "    val_loss = np.multiply(losses, nums) / np.sum(nums)\n",
        "    print(epoch, val_loss)\n",
        "\n",
        "train_ds = TensorDataset(x_train, y_train)\n",
        "valid_ds = TensorDataset(x_valid, y_valid)\n"
      ],
      "execution_count": 0,
      "outputs": []
    },
    {
      "cell_type": "code",
      "metadata": {
        "id": "P7Lb4tivo0MZ",
        "colab_type": "code",
        "colab": {}
      },
      "source": [
        "class Mnist_CNN(nn.Module):\n",
        "\n",
        "  def __init__(self):\n",
        "    super().__init__()\n",
        "    self.conv1 = nn.Conv2d(1, 16, kernel_size=3, stride=2, padding=1)\n",
        "    self.conv2 = nn.Conv2d(16, 16, kernel_size=3, stride=2, padding=1)\n",
        "    self.conv3 = nn.Conv2d(16, 10, kernel_size=3, stride=2, padding=1)\n",
        "\n",
        "  def forward(self, xb):\n",
        "    xb = xb.view(-1, 1, 28, 28)\n",
        "    xb = F.relu(self.conv1(xb))\n",
        "    xb = F.relu(self.conv2(xb))\n",
        "    xb = F.relu(self.conv3(xb))\n",
        "    xb = F.avg_pool2d(xb, 4)\n",
        "    xb = xb.view(-1, xb.size(1))\n",
        "    return xb\n",
        "\n",
        "lr = 0.1\n"
      ],
      "execution_count": 0,
      "outputs": []
    },
    {
      "cell_type": "code",
      "metadata": {
        "colab_type": "code",
        "id": "2tunY9-7rJb2",
        "colab": {}
      },
      "source": [
        "# Training tek katman ile\n",
        "model, opt = get_model()\n",
        "train_dl, valid_dl = get_data(train_ds, valid_ds, bs)\n",
        "fit(epochs, model, loss_func, opt, train_dl, valid_dl)\n",
        "\n",
        "\n",
        "print('Bir tane training setinin buyuklugu: (bi fotografa denk geliyor)\\n', train_ds[0][0].shape)"
      ],
      "execution_count": 0,
      "outputs": []
    },
    {
      "cell_type": "code",
      "metadata": {
        "id": "2-KKj56MqYIP",
        "colab_type": "code",
        "colab": {
          "base_uri": "https://localhost:8080/",
          "height": 478
        },
        "outputId": "ddc6e368-b6f9-47a5-ace7-09ef8831c9f5"
      },
      "source": [
        "# Bi CNN ile model egitme\n",
        "model = Mnist_CNN()\n",
        "opt = optim.SGD(params=model.parameters(), lr=lr, momentum=0.9)\n",
        "fit(epochs, model, loss_func, opt, train_dl, valid_dl)"
      ],
      "execution_count": 59,
      "outputs": [
        {
          "output_type": "stream",
          "text": [
            "0 [0.00376716 0.00771111 0.00657187 0.00606696 0.00662    0.00569734\n",
            " 0.00652348 0.0045667  0.00345769 0.00679373 0.00475082 0.00434005\n",
            " 0.00554836 0.00405838 0.00401692 0.00638924 0.0087566  0.00458553\n",
            " 0.00320831 0.00343143 0.00394074 0.00535723 0.00833216 0.00579515\n",
            " 0.00450352 0.00517901 0.00131107 0.00644986 0.00350925 0.00333147\n",
            " 0.00429975 0.00648363 0.00403918 0.00368736 0.00381798 0.00516692\n",
            " 0.00220448 0.00348252 0.00780102 0.00369577 0.00471249 0.00462974\n",
            " 0.00410928 0.00398389 0.00464588 0.00427504 0.00240965 0.00272597\n",
            " 0.00422968 0.00418137 0.00448425 0.00402346 0.00344384 0.00529957\n",
            " 0.0028592  0.00448    0.00814356 0.00495681 0.00365054 0.00488519\n",
            " 0.00524198 0.00434807 0.00346071 0.00240201 0.00212443 0.00337273\n",
            " 0.00277437 0.00324186 0.0039406  0.00180842 0.00135763 0.00150082\n",
            " 0.00538202 0.00870193 0.00268425 0.00769099 0.00571651 0.0034218\n",
            " 0.00024469]\n",
            "1 [0.00281753 0.00407006 0.00454503 0.00547919 0.00463311 0.00318334\n",
            " 0.00180556 0.00303389 0.00254315 0.00508588 0.00350776 0.00262066\n",
            " 0.00261033 0.00238203 0.0019506  0.00368902 0.00809265 0.00429003\n",
            " 0.00294838 0.00224659 0.00194829 0.00505551 0.0059414  0.00350941\n",
            " 0.00332631 0.00217086 0.00137991 0.00288099 0.00302857 0.0023476\n",
            " 0.00445293 0.00791218 0.00221801 0.00232973 0.00170139 0.0028159\n",
            " 0.00205579 0.00371642 0.00614015 0.00373294 0.00344904 0.00398053\n",
            " 0.00376249 0.00319672 0.00451388 0.00265074 0.0017729  0.00177181\n",
            " 0.0037059  0.00255039 0.00320267 0.00367071 0.00265184 0.00309225\n",
            " 0.00149091 0.0037345  0.00302366 0.00339917 0.00328425 0.00344559\n",
            " 0.00477037 0.0030845  0.00382951 0.00151031 0.00120281 0.0012735\n",
            " 0.00253971 0.00270278 0.00151286 0.00187167 0.00052468 0.00074368\n",
            " 0.00497506 0.00553984 0.00062861 0.00591068 0.0041552  0.00354587\n",
            " 0.00038466]\n"
          ],
          "name": "stdout"
        }
      ]
    },
    {
      "cell_type": "markdown",
      "metadata": {
        "id": "enm9xUZnsudZ",
        "colab_type": "text"
      },
      "source": [
        "Sequential sinfinin kullanilabilmesi icin, verilen butun parametrelerin bi Katman olmasi lazim ve bunun icinde bu pytorch'da kendiliginden katman olarak tanimlanmamis olan *view* fonksiyonunu bi katmanin icerisine yerlestiriyoruz."
      ]
    },
    {
      "cell_type": "code",
      "metadata": {
        "id": "YBJP-IVSsc3B",
        "colab_type": "code",
        "colab": {}
      },
      "source": [
        "class Lambda(nn.Module):\n",
        "  def __init__(self, func):\n",
        "    super().__init__()\n",
        "    self.func = func\n",
        "\n",
        "  def forward(self, x):\n",
        "    return self.func(x)\n",
        "\n",
        "def preprocess(x):\n",
        "  return x.view(-1, 1, 28, 28)"
      ],
      "execution_count": 0,
      "outputs": []
    },
    {
      "cell_type": "code",
      "metadata": {
        "id": "phfLvHRVrXZD",
        "colab_type": "code",
        "colab": {}
      },
      "source": [
        "model = nn.Sequential(\n",
        "  Lambda(preprocess),\n",
        "  nn.Conv2d(1, 16, kernel_size=3, stride=2, padding=1),\n",
        "  nn.ReLU(),\n",
        "  nn.Conv2d(16, 16, kernel_size=3, stride=2, padding=1),\n",
        "  nn.ReLU(),\n",
        "  nn.Conv2d(16, 10, kernel_size=3, stride=2, padding=1),\n",
        "  nn.ReLU(),\n",
        "  nn.AvgPool2d(4),\n",
        "  Lambda(lambda x: x.view(x.size(0), -1))\n",
        ")\n",
        "\n",
        "opt = optim.SGD(model.parameters(), lr=lr, momentum=0.9)\n",
        "fit(epochs, model, loss_func, opt, train_dl, valid_dl)"
      ],
      "execution_count": 0,
      "outputs": []
    },
    {
      "cell_type": "code",
      "metadata": {
        "id": "0V5PR2qOt5Bw",
        "colab_type": "code",
        "colab": {}
      },
      "source": [
        ""
      ],
      "execution_count": 0,
      "outputs": []
    }
  ]
}