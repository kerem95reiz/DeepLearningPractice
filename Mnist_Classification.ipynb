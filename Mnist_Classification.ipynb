{
  "nbformat": 4,
  "nbformat_minor": 0,
  "metadata": {
    "colab": {
      "name": "Mnist Classification.ipynb",
      "provenance": [],
      "authorship_tag": "ABX9TyOm+f+HOFDlC1FHDc9CpU+F"
    },
    "kernelspec": {
      "name": "python3",
      "display_name": "Python 3"
    },
    "accelerator": "GPU"
  },
  "cells": [
    {
      "cell_type": "code",
      "metadata": {
        "id": "LKQC8BLMGGIi",
        "colab_type": "code",
        "colab": {}
      },
      "source": [
        "from pathlib import Path\n",
        "import requests\n",
        "\n",
        "DATA_PATH = Path('data')\n",
        "PATH = DATA_PATH / 'mnist'\n",
        "\n",
        "PATH.mkdir(parents=True, exist_ok=True)\n",
        "\n",
        "URL = 'http://deeplearning.net/data/mnist/'\n",
        "FILENAME = 'mnist.pkl.gz'\n",
        "\n",
        "if not (PATH/FILENAME).exists():\n",
        "  content = requests.get(URL + FILENAME).content\n",
        "  (PATH/FILENAME).open('wb').write(content)"
      ],
      "execution_count": 0,
      "outputs": []
    },
    {
      "cell_type": "code",
      "metadata": {
        "id": "qNUwUBe5G5vn",
        "colab_type": "code",
        "colab": {}
      },
      "source": [
        "import pickle, gzip\n",
        "\n",
        "with gzip.open((PATH / FILENAME).as_posix(), 'rb') as f:\n",
        "  ((x_train, y_train), (x_valid, y_valid), _) = pickle.load(f, encoding='latin-1')\n"
      ],
      "execution_count": 0,
      "outputs": []
    },
    {
      "cell_type": "code",
      "metadata": {
        "id": "IoNbwCLxG7IX",
        "colab_type": "code",
        "outputId": "a788f326-1c13-41a4-bed6-0ee4fbdcbcc0",
        "colab": {
          "base_uri": "https://localhost:8080/",
          "height": 282
        }
      },
      "source": [
        "from matplotlib import pyplot\n",
        "import numpy as np\n",
        "\n",
        "pyplot.imshow(x_train[0].reshape((28, 28)), cmap='gray')\n",
        "print(x_train.shape)"
      ],
      "execution_count": 47,
      "outputs": [
        {
          "output_type": "stream",
          "text": [
            "(50000, 784)\n"
          ],
          "name": "stdout"
        },
        {
          "output_type": "display_data",
          "data": {
            "image/png": "[encoded data removed]",
            "text/plain": [
              "<Figure size 432x288 with 1 Axes>"
            ]
          },
          "metadata": {
            "tags": []
          }
        }
      ]
    },
    {
      "cell_type": "code",
      "metadata": {
        "id": "TXmJ2wr6G9fM",
        "colab_type": "code",
        "colab": {}
      },
      "source": [
        "import torch\n",
        "import torch.nn.functional as F\n",
        "x_train, y_train, x_valid, y_valid = map(torch.tensor, \n",
        "                                         (x_train, y_train, x_valid, y_valid))\n",
        "\n",
        "n, c = x_train.shape\n",
        "bs = 64 # batch size\n",
        "loss_func = F.cross_entropy"
      ],
      "execution_count": 0,
      "outputs": []
    },
    {
      "cell_type": "code",
      "metadata": {
        "id": "WOVFOVG5OVzB",
        "colab_type": "code",
        "colab": {}
      },
      "source": [
        "def accuracy(out, yb):\n",
        "  preds = torch.argmax(out, dim=1)\n",
        "  return (preds == yb).float().mean()"
      ],
      "execution_count": 0,
      "outputs": []
    },
    {
      "cell_type": "code",
      "metadata": {
        "id": "BOImpFFAfEqc",
        "colab_type": "code",
        "colab": {}
      },
      "source": [
        "from torch import nn\n",
        "\n",
        "class Mnist_Logistic(nn.Module):\n",
        "  def __init__(self):\n",
        "    super().__init__()\n",
        "    self.lin1 = nn.Linear(784, 10)\n",
        "\n",
        "  def forward(self, xb):\n",
        "    return self.lin1(xb)"
      ],
      "execution_count": 0,
      "outputs": []
    },
    {
      "cell_type": "code",
      "metadata": {
        "id": "FnYEkXhVkSEl",
        "colab_type": "code",
        "colab": {}
      },
      "source": [
        "def loss_batch(model, loss_func, xb, yb, opt=None):\n",
        "  loss = loss_func(model(xb), yb)\n",
        "\n",
        "  if opt is not None:\n",
        "    loss.backward()\n",
        "    opt.step()\n",
        "    opt.zero_grad()\n",
        "  \n",
        "  return loss.item(), len(xb)"
      ],
      "execution_count": 0,
      "outputs": []
    },
    {
      "cell_type": "code",
      "metadata": {
        "id": "C404FLlomcBm",
        "colab_type": "code",
        "colab": {}
      },
      "source": [
        "def get_data(train_ds, valid_ds, bs):\n",
        "  return (\n",
        "      DataLoader(train_ds, batch_size=bs, shuffle=2),\n",
        "      DataLoader(valid_ds, batch_size=bs*2)\n",
        "  )"
      ],
      "execution_count": 0,
      "outputs": []
    },
    {
      "cell_type": "code",
      "metadata": {
        "id": "VUUAhIAgkSsd",
        "colab_type": "code",
        "colab": {
          "base_uri": "https://localhost:8080/",
          "height": 511
        },
        "outputId": "bcb300d3-cbbd-4ddb-9b8a-bbc96cd46b4d"
      },
      "source": [
        "from torch import optim\n",
        "from torch.utils.data import TensorDataset, DataLoader\n",
        "\n",
        "lr = 0.5\n",
        "epochs = 2\n",
        "\n",
        "def get_model():\n",
        "  model = Mnist_Logistic()\n",
        "  opt = optim.SGD(model.parameters(), lr=lr)\n",
        "  return model, opt\n",
        "\n",
        "def fit(epochs, model, loss_func, opt, train_dl, valid_dl):\n",
        "  for epoch in range(epochs):\n",
        "    model.train()\n",
        "    for xb, yb in train_dl:\n",
        "      loss_batch(model, loss_func, xb, yb, opt)\n",
        "\n",
        "      model.eval()\n",
        "      with torch.no_grad():\n",
        "        losses, nums = zip(*[loss_batch(model, loss_func, xb, yb) for xb, yb in valid_dl])\n",
        "        val_loss = np.multiply(losses, nums) / np.sum(nums)\n",
        "    print(epoch, val_loss)\n",
        "\n",
        "train_ds = TensorDataset(x_train, y_train)\n",
        "valid_ds = TensorDataset(x_valid, y_valid)\n",
        "\n",
        "model, opt = get_model()\n",
        "train_dl, valid_dl = get_data(train_ds, valid_ds, bs)\n",
        "fit(epochs, model, loss_func, opt, train_dl, valid_dl)\n",
        "\n",
        "\n",
        "print('Bir tane training setinin buyuklugu: (bi fotograga denk geliyor)\\n', train_ds[0][0].shape)"
      ],
      "execution_count": 53,
      "outputs": [
        {
          "output_type": "stream",
          "text": [
            "0 [0.00491331 0.00623062 0.00615701 0.00707182 0.00672301 0.00427846\n",
            " 0.00389075 0.00309922 0.00219215 0.00512355 0.00359728 0.00324761\n",
            " 0.0036915  0.00418181 0.00277482 0.00546656 0.00789734 0.00471124\n",
            " 0.00524593 0.00284326 0.00436904 0.00662584 0.00803965 0.00697428\n",
            " 0.00460621 0.00311409 0.00157492 0.00546108 0.00386414 0.00329724\n",
            " 0.00493971 0.00658085 0.00424382 0.00266604 0.00445768 0.0058779\n",
            " 0.0025766  0.00418573 0.0060226  0.00382207 0.00361323 0.00426159\n",
            " 0.00288326 0.00426353 0.00423608 0.00383563 0.00341071 0.00241031\n",
            " 0.00394062 0.00408182 0.00579117 0.00454405 0.0034724  0.00301013\n",
            " 0.00368843 0.00300426 0.00327976 0.00366888 0.00370714 0.0051076\n",
            " 0.0052445  0.00247191 0.00289243 0.00330315 0.00232685 0.00336829\n",
            " 0.00249659 0.00291611 0.00246965 0.00273821 0.00137989 0.00125934\n",
            " 0.00473426 0.00748067 0.00113257 0.00614858 0.00470757 0.00405539\n",
            " 0.00012796]\n",
            "1 [0.0049648  0.0064004  0.00601526 0.00557196 0.00757844 0.00441209\n",
            " 0.00438541 0.00274453 0.00226676 0.0055648  0.00410246 0.00339417\n",
            " 0.00322467 0.00411382 0.0026695  0.00579276 0.00742038 0.00500935\n",
            " 0.00614213 0.00268723 0.004117   0.00565569 0.00775266 0.00715315\n",
            " 0.00425998 0.00405394 0.0012166  0.00499742 0.00441456 0.00316533\n",
            " 0.00425921 0.00694627 0.00449435 0.00253632 0.00428371 0.00610603\n",
            " 0.00226275 0.00287747 0.00695149 0.00360097 0.00447154 0.00463478\n",
            " 0.00269976 0.00421596 0.0045225  0.00437717 0.00279377 0.00223425\n",
            " 0.00379842 0.00319148 0.00543275 0.00422086 0.00338382 0.00357324\n",
            " 0.00430275 0.00331627 0.00407715 0.00415395 0.00370434 0.0055856\n",
            " 0.00652846 0.00274805 0.0029006  0.003003   0.002286   0.00310283\n",
            " 0.00227356 0.00260875 0.00374354 0.00192544 0.00122867 0.00128431\n",
            " 0.00455722 0.00667686 0.00161711 0.00617854 0.00453744 0.0035706\n",
            " 0.00012485]\n",
            "Bir tane training setinin buyuklugu: (bi fotograga denk geliyor)\n",
            " torch.Size([784])\n"
          ],
          "name": "stdout"
        }
      ]
    }
  ]
}